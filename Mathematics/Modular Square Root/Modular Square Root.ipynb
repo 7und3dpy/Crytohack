{
 "cells": [
  {
   "cell_type": "code",
   "execution_count": null,
   "metadata": {},
   "outputs": [],
   "source": [
    "from sage"
   ]
  }
 ],
 "metadata": {
  "kernelspec": {
   "display_name": "SageMath 9.3 for VSCode",
   "language": "python",
   "name": "sagemath-vscode"
  }
 },
 "nbformat": 4,
 "nbformat_minor": 4
}
